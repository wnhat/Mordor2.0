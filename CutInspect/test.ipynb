{
 "cells": [
  {
   "cell_type": "code",
   "execution_count": null,
   "metadata": {
    "dotnet_interactive": {
     "language": "csharp"
    },
    "vscode": {
     "languageId": "dotnet-interactive.csharp"
    }
   },
   "outputs": [
    {
     "data": {
      "text/html": [
       "<div><div></div><div></div><div><strong>Installed Packages</strong><ul><li><span>RestSharp, 108.0.1</span></li></ul></div></div>"
      ]
     },
     "metadata": {},
     "output_type": "display_data"
    }
   ],
   "source": [
    "using System;\n",
    "using System.Collections.Generic;\n",
    "using System.IO;\n",
    "using System.Linq;\n",
    "using System.Net.Http;\n",
    "using System.Text;\n",
    "using System.Threading.Tasks;\n",
    "using Newtonsoft.Json.Linq;\n",
    "#r \"nuget:RestSharp\"\n",
    "using RestSharp;"
   ]
  },
  {
   "cell_type": "code",
   "execution_count": null,
   "metadata": {
    "dotnet_interactive": {
     "language": "csharp"
    },
    "vscode": {
     "languageId": "dotnet-interactive.csharp"
    }
   },
   "outputs": [],
   "source": [
    "public static class ServerConnector\n",
    "    {\n",
    "        static string ip = \"10.141.34.78\";\n",
    "        static int port = 28108;\n",
    "        static string part = \"EAC\";\n",
    "\n",
    "\n",
    "        static Uri uri = new UriBuilder(Uri.UriSchemeHttp, ip, port, part).Uri;\n",
    "\n",
    "        // ver 2\n",
    "        static string getImageInfo { get { return uri.ToString() + \"/getImageInfo\"; } }\n",
    "        static string modifyImageStatus { get { return uri.ToString() + \"/modifyImageStatus\"; } }\n",
    "        static string getImage { get { return uri.ToString() + \"/getImage\"; } }\n",
    "\n",
    "        static RestClient restClient = new RestClient(\"http://10.141.34.78:28108/EAC/\")\n",
    "        { \n",
    "            \n",
    "        };\n",
    "\n",
    "        static ServerConnector()\n",
    "        {\n",
    "            //restClient.Timeout = TimeSpan.FromSeconds(10);\n",
    "        }\n",
    "        public static JObject GetInfo(DateTime starttime,DateTime endtime)\n",
    "        {\n",
    "            var request = new RestRequest(\"getImageInfo\", Method.Get);\n",
    "\n",
    "            request.AddQueryParameter(\"startTime\", starttime.ToString(\"yyyy-MM-dd HH:mm:ss\"));\n",
    "            request.AddQueryParameter(\"endTime\", endtime.ToString(\"yyyy-MM-dd HH:mm:ss\"));\n",
    "\n",
    "            var response = restClient.Get(request);\n",
    "            Console.WriteLine(response.Content);\n",
    "\n",
    "            JObject result = JObject.Parse(response.Content);\n",
    "            return result;\n",
    "        }\n",
    "        public static void GetGroupedData(JObject data)\n",
    "        {\n",
    "\n",
    "        }\n",
    "        public static void SendResult(string id,int status)\n",
    "        {\n",
    "\n",
    "        }\n",
    "        public static Stream GetImage(string id)\n",
    "        {\n",
    "            var client = new HttpClient();\n",
    "\n",
    "            Uri uri = GetImageUri(id);\n",
    "            HttpResponseMessage response = client.GetAsync(uri).Result;\n",
    "\n",
    "            response.EnsureSuccessStatusCode();\n",
    "            var responseBody = response.Content.ReadAsStream();\n",
    "            return responseBody;\n",
    "        }\n",
    "\n",
    "        static Uri GetImageUri(string id)\n",
    "        {\n",
    "            var builder = new UriBuilder(null,ip,port,part);\n",
    "            return builder.Uri;\n",
    "        }\n",
    "    }"
   ]
  },
  {
   "cell_type": "code",
   "execution_count": null,
   "metadata": {
    "dotnet_interactive": {
     "language": "csharp"
    },
    "vscode": {
     "languageId": "dotnet-interactive.csharp"
    }
   },
   "outputs": [],
   "source": [
    "var aaa = new ServerConnector();\n",
    "DateTime start = DateTime.Parse(\"2022-06-17 00:20:01\");\n",
    "DateTime end = DateTime.Parse(\"2022-06-17 18:10:00\");\n",
    "var bb = aaa.GetInfo(DateTime.Now - TimeSpan.FromDays(8),DateTime.Now);"
   ]
  }
 ],
 "metadata": {
  "kernelspec": {
   "display_name": ".NET (C#)",
   "language": "C#",
   "name": ".net-csharp"
  },
  "language_info": {
   "file_extension": ".cs",
   "mimetype": "text/x-csharp",
   "name": "C#",
   "pygments_lexer": "csharp",
   "version": "9.0"
  },
  "orig_nbformat": 4
 },
 "nbformat": 4,
 "nbformat_minor": 2
}
