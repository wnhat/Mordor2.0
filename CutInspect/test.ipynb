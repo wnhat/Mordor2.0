{
 "cells": [
  {
   "cell_type": "code",
   "execution_count": null,
   "metadata": {
    "dotnet_interactive": {
     "language": "csharp"
    },
    "vscode": {
     "languageId": "dotnet-interactive.csharp"
    }
   },
   "outputs": [],
   "source": [
    "using System;\n",
    "using System.Collections.Generic;\n",
    "using System.IO;\n",
    "using System.Linq;\n",
    "using System.Net.Http;\n",
    "using System.Text;\n",
    "using System.Threading.Tasks;\n",
    "using Newtonsoft.Json;\n",
    "using Newtonsoft.Json.Linq;\n",
    "#r \"nuget:RestSharp\"\n",
    "using RestSharp;"
   ]
  },
  {
   "cell_type": "code",
   "execution_count": null,
   "metadata": {
    "dotnet_interactive": {
     "language": "csharp"
    },
    "vscode": {
     "languageId": "dotnet-interactive.csharp"
    }
   },
   "outputs": [],
   "source": [
    "public class InspectItem\n",
    "{\n",
    "    public string? id { get; set; }\n",
    "    public string?  imageName { get; set; }\n",
    "    public string?  productId { get; set; }\n",
    "    public string?  layerId { get; set; }\n",
    "    public string?  equipmentId{ get; set; }\n",
    "    public string?  direction{ get; set; }\n",
    "    public int  status{ get; set; }\n",
    "    public string? defectBoxs{ get; set; }\n",
    "    public string?  note{ get; set; }\n",
    "    public DateTime?  startTime{ get; set; }\n",
    "    public DateTime? endTime{ get; set; }\n",
    "    public string?  imagePath{ get; set; }\n",
    "    public string?  ftpPath{ get; set; }\n",
    "    public string?  extendOne{ get; set; }\n",
    "    public string?  extendTwo{ get; set; }\n",
    "    public string?  extendThree{ get; set; }\n",
    "    public string?  createBy{ get; set; }\n",
    "    public DateTime? createDate{ get; set; }\n",
    "    public string? updateBy{ get; set; }\n",
    "    public DateTime? updateDate{ get; set; }\n",
    "}"
   ]
  },
  {
   "cell_type": "code",
   "execution_count": null,
   "metadata": {
    "dotnet_interactive": {
     "language": "csharp"
    },
    "vscode": {
     "languageId": "dotnet-interactive.csharp"
    }
   },
   "outputs": [],
   "source": [
    "public class GroupData\n",
    "{\n",
    "    public string EqpName;\n",
    "    public List<InspectItem> InspectItems;\n",
    "    public int finishedItem { get \n",
    "        {\n",
    "            int count = 0;\n",
    "            foreach (var item in InspectItems)\n",
    "            {\n",
    "                if (item.status == 1)\n",
    "                {\n",
    "                    count++;\n",
    "                }\n",
    "            }\n",
    "            return count;\n",
    "        } }\n",
    "    public int totalItems { get { return InspectItems.Count; } }\n",
    "\n",
    "    public GroupData(string EqpName,List<InspectItem> items)\n",
    "    {\n",
    "        this.EqpName = EqpName;\n",
    "        this.InspectItems = new List<InspectItem>();\n",
    "    }\n",
    "}"
   ]
  },
  {
   "cell_type": "code",
   "execution_count": null,
   "metadata": {
    "dotnet_interactive": {
     "language": "csharp"
    },
    "vscode": {
     "languageId": "dotnet-interactive.csharp"
    }
   },
   "outputs": [],
   "source": [
    "public static class ServerConnector\n",
    "{\n",
    "    static RestClient restClient = new RestClient(\"http://10.141.34.78:26208/EAC/\");\n",
    "\n",
    "    static ServerConnector()\n",
    "    {\n",
    "        restClient.Options.MaxTimeout = 10000;\n",
    "    }\n",
    "    public static InspectItem[] GetInfo(DateTime starttime,DateTime endtime)\n",
    "    {            \n",
    "        var request = new RestRequest(\"getImageInfo\");\n",
    "\n",
    "        request.AddQueryParameter(\"startTime\", starttime.ToString(\"yyyy-MM-dd HH:mm:ss\"));\n",
    "        request.AddQueryParameter(\"endTime\", endtime.ToString(\"yyyy-MM-dd HH:mm:ss\"));\n",
    "\n",
    "        var response = restClient.Get(request);\n",
    "        if (response.IsSuccessful)\n",
    "        {\n",
    "            if (response.Content == null)\n",
    "            {\n",
    "                throw new Exception(\"获取的产品信息为空；\");\n",
    "            }\n",
    "            else\n",
    "            {\n",
    "                string jsonstring = response.Content;\n",
    "                InspectItem[] deserializedProduct = JsonConvert.DeserializeObject<InspectItem[]>(jsonstring);\n",
    "                return deserializedProduct;\n",
    "            }\n",
    "        }\n",
    "        else\n",
    "        {\n",
    "            throw new Exception(\"连接失败；\");\n",
    "        }\n",
    "    }\n",
    "    public static List<GroupData> GetGroupedData(InspectItem[] data)\n",
    "    {\n",
    "        List<GroupData> groupedData = new List<GroupData>();\n",
    "        var eqplist = from item in data\n",
    "                        group item.equipmentId by item.equipmentId into g\n",
    "                        select new { equipmentId = g.Key, Count = g.Count() };\n",
    "\n",
    "        foreach (var eq in eqplist)\n",
    "        {\n",
    "            var items = from item in data where item.equipmentId == eq.equipmentId select item;\n",
    "\n",
    "            var newgroup = new GroupData(eq.equipmentId, items.ToList());\n",
    "            groupedData.Add(newgroup);\n",
    "        }\n",
    "        return groupedData;\n",
    "    }\n",
    "    public static void SendResult(string id,int status)\n",
    "    {\n",
    "        var request = new RestRequest(\"modifyImageStatus\",Method.Post);\n",
    "        var jsonresult = new JObject();\n",
    "        jsonresult[\"id\"] = id;\n",
    "        jsonresult[\"status\"] = status;\n",
    "\n",
    "        request.AddJsonBody(jsonresult.ToString());\n",
    "        var response = restClient.Post(request);\n",
    "        if (response.IsSuccessful)\n",
    "        {\n",
    "        }\n",
    "        else\n",
    "        {\n",
    "            throw new Exception(\"上传检查结果失败，请检查服务器连接；\");\n",
    "        }\n",
    "    }\n",
    "    public static Stream GetImage(string id)\n",
    "    {\n",
    "        var request = new RestRequest(\"getImage\");\n",
    "\n",
    "        request.AddQueryParameter(\"imageId\", id);\n",
    "\n",
    "        var response = restClient.Get(request);\n",
    "        if (response.IsSuccessful)\n",
    "        {\n",
    "            if (response.RawBytes == null)\n",
    "            {\n",
    "                throw new Exception(\"获取的图像为空；\");\n",
    "            }\n",
    "            else\n",
    "            {\n",
    "            return new MemoryStream(response.RawBytes);\n",
    "            }\n",
    "        }\n",
    "        else\n",
    "        {\n",
    "            throw new Exception(\"连接失败；\");\n",
    "        }\n",
    "    }\n",
    "}"
   ]
  },
  {
   "cell_type": "code",
   "execution_count": null,
   "metadata": {
    "dotnet_interactive": {
     "language": "csharp"
    },
    "vscode": {
     "languageId": "dotnet-interactive.csharp"
    }
   },
   "outputs": [],
   "source": [
    "DateTime start = DateTime.Parse(\"2022-06-17 00:10:00\");\n",
    "DateTime end = DateTime.Parse(\"2022-06-18 00:10:00\");\n",
    "var data = ServerConnector.GetInfo(start,end);\n",
    "data"
   ]
  },
  {
   "cell_type": "code",
   "execution_count": null,
   "metadata": {
    "dotnet_interactive": {
     "language": "csharp"
    },
    "vscode": {
     "languageId": "dotnet-interactive.csharp"
    }
   },
   "outputs": [],
   "source": [
    "var listdata = ServerConnector.GetGroupedData(data);\n",
    "listdata"
   ]
  },
  {
   "cell_type": "code",
   "execution_count": null,
   "metadata": {
    "dotnet_interactive": {
     "language": "csharp"
    },
    "vscode": {
     "languageId": "dotnet-interactive.csharp"
    }
   },
   "outputs": [],
   "source": [
    "string imgid = \"699abb4363404f869b4ff5c9ecb0467e\";\n",
    "var imgdata = ServerConnector.GetImage(imgid);"
   ]
  },
  {
   "cell_type": "code",
   "execution_count": null,
   "metadata": {
    "dotnet_interactive": {
     "language": "csharp"
    },
    "vscode": {
     "languageId": "dotnet-interactive.csharp"
    }
   },
   "outputs": [],
   "source": [
    "string path = @\"D:\\Program\\Mordor2.0\\CutInspect\\test.json\";\n",
    "FileInfo aaa = new FileInfo(path);\n",
    "var data = aaa.OpenRead();\n",
    "string jsonstring = aaa.OpenText().ReadToEnd();\n",
    "jsonstring"
   ]
  },
  {
   "cell_type": "code",
   "execution_count": null,
   "metadata": {
    "dotnet_interactive": {
     "language": "csharp"
    },
    "vscode": {
     "languageId": "dotnet-interactive.csharp"
    }
   },
   "outputs": [],
   "source": [
    "InspectItem[] deserializedProduct = JsonConvert.DeserializeObject<InspectItem[]>(jsonstring);\n",
    "deserializedProduct"
   ]
  }
 ],
 "metadata": {
  "kernelspec": {
   "display_name": ".NET (C#)",
   "language": "C#",
   "name": ".net-csharp"
  },
  "language_info": {
   "file_extension": ".cs",
   "mimetype": "text/x-csharp",
   "name": "C#",
   "pygments_lexer": "csharp",
   "version": "9.0"
  },
  "orig_nbformat": 4
 },
 "nbformat": 4,
 "nbformat_minor": 2
}
