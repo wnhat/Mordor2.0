{
 "cells": [
  {
   "cell_type": "code",
   "execution_count": null,
   "metadata": {
    "dotnet_interactive": {
     "language": "csharp"
    },
    "vscode": {
     "languageId": "dotnet-interactive.csharp"
    }
   },
   "outputs": [],
   "source": [
    "using System;\n",
    "using System.Collections.Generic;\n",
    "using System.IO;\n",
    "using System.Linq;\n",
    "using System.Net.Http;\n",
    "using System.Text;\n",
    "using System.Threading.Tasks;\n",
    "using Newtonsoft.Json;\n",
    "using Newtonsoft.Json.Linq;\n",
    "#r \"nuget:RestSharp\"\n",
    "using RestSharp;"
   ]
  },
  {
   "cell_type": "code",
   "execution_count": null,
   "metadata": {
    "dotnet_interactive": {
     "language": "csharp"
    },
    "vscode": {
     "languageId": "dotnet-interactive.csharp"
    }
   },
   "outputs": [],
   "source": [
    "public static class ServerConnector\n",
    "    {\n",
    "        static string ip = \"10.141.34.78\";\n",
    "        static int port = 28108;\n",
    "        static string part = \"EAC\";\n",
    "\n",
    "\n",
    "        static Uri uri = new UriBuilder(Uri.UriSchemeHttp, ip, port, part).Uri;\n",
    "\n",
    "        // ver 2\n",
    "        static string getImageInfo { get { return uri.ToString() + \"/getImageInfo\"; } }\n",
    "        static string modifyImageStatus { get { return uri.ToString() + \"/modifyImageStatus\"; } }\n",
    "        static string getImage { get { return uri.ToString() + \"/getImage\"; } }\n",
    "\n",
    "        static RestClient restClient = new RestClient(\"http://10.141.34.78:28108/EAC/\")\n",
    "        { \n",
    "            \n",
    "        };\n",
    "\n",
    "        static ServerConnector()\n",
    "        {\n",
    "            //restClient.Timeout = TimeSpan.FromSeconds(10);\n",
    "        }\n",
    "        public static JObject GetInfo(DateTime starttime,DateTime endtime)\n",
    "        {\n",
    "            var request = new RestRequest(\"getImageInfo\", Method.Get);\n",
    "\n",
    "            request.AddQueryParameter(\"startTime\", starttime.ToString(\"yyyy-MM-dd HH:mm:ss\"));\n",
    "            request.AddQueryParameter(\"endTime\", endtime.ToString(\"yyyy-MM-dd HH:mm:ss\"));\n",
    "\n",
    "            var response = restClient.Get(request);\n",
    "            Console.WriteLine(response.Content);\n",
    "\n",
    "            JObject result = JObject.Parse(response.Content);\n",
    "            return result;\n",
    "        }\n",
    "        public static void GetGroupedData(JObject data)\n",
    "        {\n",
    "\n",
    "        }\n",
    "        public static void SendResult(string id,int status)\n",
    "        {\n",
    "\n",
    "        }\n",
    "        public static Stream GetImage(string id)\n",
    "        {\n",
    "            var client = new HttpClient();\n",
    "\n",
    "            Uri uri = GetImageUri(id);\n",
    "            HttpResponseMessage response = client.GetAsync(uri).Result;\n",
    "\n",
    "            response.EnsureSuccessStatusCode();\n",
    "            var responseBody = response.Content.ReadAsStream();\n",
    "            return responseBody;\n",
    "        }\n",
    "\n",
    "        static Uri GetImageUri(string id)\n",
    "        {\n",
    "            var builder = new UriBuilder(null,ip,port,part);\n",
    "            return builder.Uri;\n",
    "        }\n",
    "    }"
   ]
  },
  {
   "cell_type": "code",
   "execution_count": null,
   "metadata": {
    "dotnet_interactive": {
     "language": "csharp"
    },
    "vscode": {
     "languageId": "dotnet-interactive.csharp"
    }
   },
   "outputs": [],
   "source": [
    "public class InspectItem\n",
    "    {\n",
    "        public string? id { get; set; }\n",
    "        public string?  imageName { get; set; }\n",
    "        public string?  productId { get; set; }\n",
    "        public string?  layerId { get; set; }\n",
    "        public string?  equipmentId{ get; set; }\n",
    "        public string?  direction{ get; set; }\n",
    "        public string?  status{ get; set; }\n",
    "        public string? defectBoxs{ get; set; }\n",
    "        public string?  note{ get; set; }\n",
    "        public DateTime?  startTime{ get; set; }\n",
    "        public DateTime? endTime{ get; set; }\n",
    "        public string?  imagePath{ get; set; }\n",
    "        public string?  ftpPath{ get; set; }\n",
    "        public string?  extendOne{ get; set; }\n",
    "        public string?  extendTwo{ get; set; }\n",
    "        public string?  extendThree{ get; set; }\n",
    "        public string?  createBy{ get; set; }\n",
    "        public DateTime? createDate{ get; set; }\n",
    "        public string? updateBy{ get; set; }\n",
    "        public DateTime? updateDate{ get; set; }\n",
    "    }"
   ]
  },
  {
   "cell_type": "code",
   "execution_count": null,
   "metadata": {
    "dotnet_interactive": {
     "language": "csharp"
    },
    "vscode": {
     "languageId": "dotnet-interactive.csharp"
    }
   },
   "outputs": [],
   "source": [
    "string path = @\"D:\\Program\\Mordor2.0\\CutInspect\\test.json\";\n",
    "FileInfo aaa = new FileInfo(path);\n",
    "var data = aaa.OpenRead();\n",
    "string jsonstring = aaa.OpenText().ReadToEnd();\n",
    "jsonstring"
   ]
  },
  {
   "cell_type": "code",
   "execution_count": null,
   "metadata": {
    "dotnet_interactive": {
     "language": "csharp"
    },
    "vscode": {
     "languageId": "dotnet-interactive.csharp"
    }
   },
   "outputs": [
    {
     "data": {
      "text/html": [
       "<table><thead><tr><th><i>index</i></th><th>id</th><th>imageName</th><th>productId</th><th>layerId</th><th>equipmentId</th><th>direction</th><th>status</th><th>defectBoxs</th><th>note</th><th>startTime</th><th>endTime</th><th>imagePath</th><th>ftpPath</th><th>extendOne</th><th>extendTwo</th><th>extendThree</th><th>createBy</th><th>createDate</th><th>updateBy</th><th>updateDate</th></tr></thead><tbody><tr><td>0</td><td>683554c9d239461fa87f960ad85015fd</td><td>766K250004B1BAG04_C20000N_7CCCC08_20220601_101926_BRE.jpg</td><td><div class=\"dni-plaintext\">&lt;null&gt;</div></td><td><div class=\"dni-plaintext\">&lt;null&gt;</div></td><td>7CCCC08</td><td><div class=\"dni-plaintext\">&lt;null&gt;</div></td><td>1</td><td><div class=\"dni-plaintext\">&lt;null&gt;</div></td><td><div class=\"dni-plaintext\">&lt;null&gt;</div></td><td><span>2022-06-17 09:10:00Z</span></td><td><span>2022-06-17 09:10:00Z</span></td><td>/dfsdata/eac/online/image/C20000N/766K/25/0004/B1B/AG/</td><td><div class=\"dni-plaintext\">&lt;null&gt;</div></td><td><div class=\"dni-plaintext\">&lt;null&gt;</div></td><td><div class=\"dni-plaintext\">&lt;null&gt;</div></td><td><div class=\"dni-plaintext\">&lt;null&gt;</div></td><td>ADC00001</td><td><span>2022-06-17 09:20:01Z</span></td><td><div class=\"dni-plaintext\">&lt;null&gt;</div></td><td><span>2022-08-17 20:46:30Z</span></td></tr><tr><td>1</td><td>683554c9d239461fa87f960ad85015fd</td><td>766K250004B1BAG04_C20000N_7CCCC08_20220601_101926_BRE.jpg</td><td><div class=\"dni-plaintext\">&lt;null&gt;</div></td><td><div class=\"dni-plaintext\">&lt;null&gt;</div></td><td>7CCCC08</td><td><div class=\"dni-plaintext\">&lt;null&gt;</div></td><td>1</td><td><div class=\"dni-plaintext\">&lt;null&gt;</div></td><td><div class=\"dni-plaintext\">&lt;null&gt;</div></td><td><span>2022-06-17 09:10:00Z</span></td><td><span>2022-06-17 09:10:00Z</span></td><td>/dfsdata/eac/online/image/C20000N/766K/25/0004/B1B/AG/</td><td><div class=\"dni-plaintext\">&lt;null&gt;</div></td><td><div class=\"dni-plaintext\">&lt;null&gt;</div></td><td><div class=\"dni-plaintext\">&lt;null&gt;</div></td><td><div class=\"dni-plaintext\">&lt;null&gt;</div></td><td>ADC00001</td><td><span>2022-06-17 09:20:01Z</span></td><td><div class=\"dni-plaintext\">&lt;null&gt;</div></td><td><span>2022-08-17 20:46:30Z</span></td></tr><tr><td>2</td><td>683554c9d239461fa87f960ad85015fd</td><td>766K250004B1BAG04_C20000N_7CCCC08_20220601_101926_BRE.jpg</td><td><div class=\"dni-plaintext\">&lt;null&gt;</div></td><td><div class=\"dni-plaintext\">&lt;null&gt;</div></td><td>7CCCC08</td><td><div class=\"dni-plaintext\">&lt;null&gt;</div></td><td>1</td><td><div class=\"dni-plaintext\">&lt;null&gt;</div></td><td><div class=\"dni-plaintext\">&lt;null&gt;</div></td><td><span>2022-06-17 09:10:00Z</span></td><td><span>2022-06-17 09:10:00Z</span></td><td>/dfsdata/eac/online/image/C20000N/766K/25/0004/B1B/AG/</td><td><div class=\"dni-plaintext\">&lt;null&gt;</div></td><td><div class=\"dni-plaintext\">&lt;null&gt;</div></td><td><div class=\"dni-plaintext\">&lt;null&gt;</div></td><td><div class=\"dni-plaintext\">&lt;null&gt;</div></td><td>ADC00001</td><td><span>2022-06-17 09:20:01Z</span></td><td><div class=\"dni-plaintext\">&lt;null&gt;</div></td><td><span>2022-08-17 20:46:30Z</span></td></tr><tr><td>3</td><td>683554c9d239461fa87f960ad85015fd</td><td>766K250004B1BAG04_C20000N_7CCCC08_20220601_101926_BRE.jpg</td><td><div class=\"dni-plaintext\">&lt;null&gt;</div></td><td><div class=\"dni-plaintext\">&lt;null&gt;</div></td><td>7CCCC07</td><td><div class=\"dni-plaintext\">&lt;null&gt;</div></td><td>1</td><td><div class=\"dni-plaintext\">&lt;null&gt;</div></td><td><div class=\"dni-plaintext\">&lt;null&gt;</div></td><td><span>2022-06-17 09:10:00Z</span></td><td><span>2022-06-17 09:10:00Z</span></td><td>/dfsdata/eac/online/image/C20000N/766K/25/0004/B1B/AG/</td><td><div class=\"dni-plaintext\">&lt;null&gt;</div></td><td><div class=\"dni-plaintext\">&lt;null&gt;</div></td><td><div class=\"dni-plaintext\">&lt;null&gt;</div></td><td><div class=\"dni-plaintext\">&lt;null&gt;</div></td><td>ADC00001</td><td><span>2022-06-17 09:20:01Z</span></td><td><div class=\"dni-plaintext\">&lt;null&gt;</div></td><td><span>2022-08-17 20:46:30Z</span></td></tr><tr><td>4</td><td>683554c9d239461fa87f960ad85015fd</td><td>766K250004B1BAG04_C20000N_7CCCC08_20220601_101926_BRE.jpg</td><td><div class=\"dni-plaintext\">&lt;null&gt;</div></td><td><div class=\"dni-plaintext\">&lt;null&gt;</div></td><td>7CCCC07</td><td><div class=\"dni-plaintext\">&lt;null&gt;</div></td><td>1</td><td><div class=\"dni-plaintext\">&lt;null&gt;</div></td><td><div class=\"dni-plaintext\">&lt;null&gt;</div></td><td><span>2022-06-17 09:10:00Z</span></td><td><span>2022-06-17 09:10:00Z</span></td><td>/dfsdata/eac/online/image/C20000N/766K/25/0004/B1B/AG/</td><td><div class=\"dni-plaintext\">&lt;null&gt;</div></td><td><div class=\"dni-plaintext\">&lt;null&gt;</div></td><td><div class=\"dni-plaintext\">&lt;null&gt;</div></td><td><div class=\"dni-plaintext\">&lt;null&gt;</div></td><td>ADC00001</td><td><span>2022-06-17 09:20:01Z</span></td><td><div class=\"dni-plaintext\">&lt;null&gt;</div></td><td><span>2022-08-17 20:46:30Z</span></td></tr><tr><td>5</td><td>683554c9d239461fa87f960ad85015fd</td><td>766K250004B1BAG04_C20000N_7CCCC08_20220601_101926_BRE.jpg</td><td><div class=\"dni-plaintext\">&lt;null&gt;</div></td><td><div class=\"dni-plaintext\">&lt;null&gt;</div></td><td>7CCCC06</td><td><div class=\"dni-plaintext\">&lt;null&gt;</div></td><td>1</td><td><div class=\"dni-plaintext\">&lt;null&gt;</div></td><td><div class=\"dni-plaintext\">&lt;null&gt;</div></td><td><span>2022-06-17 09:10:00Z</span></td><td><div class=\"dni-plaintext\">&lt;null&gt;</div></td><td>/dfsdata/eac/online/image/C20000N/766K/25/0004/B1B/AG/</td><td><div class=\"dni-plaintext\">&lt;null&gt;</div></td><td><div class=\"dni-plaintext\">&lt;null&gt;</div></td><td><div class=\"dni-plaintext\">&lt;null&gt;</div></td><td><div class=\"dni-plaintext\">&lt;null&gt;</div></td><td>ADC00001</td><td><span>2022-06-17 09:20:01Z</span></td><td><div class=\"dni-plaintext\">&lt;null&gt;</div></td><td><span>2022-08-17 20:46:30Z</span></td></tr></tbody></table>"
      ]
     },
     "metadata": {},
     "output_type": "display_data"
    }
   ],
   "source": [
    "InspectItem[] deserializedProduct = JsonConvert.DeserializeObject<InspectItem[]>(jsonstring);\n",
    "deserializedProduct"
   ]
  },
  {
   "cell_type": "code",
   "execution_count": null,
   "metadata": {
    "dotnet_interactive": {
     "language": "csharp"
    },
    "vscode": {
     "languageId": "dotnet-interactive.csharp"
    }
   },
   "outputs": [
    {
     "data": {
      "text/html": [
       "<table><thead><tr><th><i>index</i></th><th>equipmentId</th><th>Count</th></tr></thead><tbody><tr><td>0</td><td>7CCCC08</td><td><div class=\"dni-plaintext\">3</div></td></tr><tr><td>1</td><td>7CCCC07</td><td><div class=\"dni-plaintext\">2</div></td></tr><tr><td>2</td><td>7CCCC06</td><td><div class=\"dni-plaintext\">1</div></td></tr></tbody></table>"
      ]
     },
     "metadata": {},
     "output_type": "display_data"
    }
   ],
   "source": [
    "var eqplist = from item in deserializedProduct\n",
    "    group item.equipmentId by item.equipmentId into g\n",
    "    select new { equipmentId = g.Key, Count = g.Count() };\n",
    "eqplist"
   ]
  },
  {
   "cell_type": "code",
   "execution_count": null,
   "metadata": {
    "dotnet_interactive": {
     "language": "csharp"
    },
    "vscode": {
     "languageId": "dotnet-interactive.csharp"
    }
   },
   "outputs": [],
   "source": [
    "foreach item in "
   ]
  }
 ],
 "metadata": {
  "kernelspec": {
   "display_name": ".NET (C#)",
   "language": "C#",
   "name": ".net-csharp"
  },
  "language_info": {
   "file_extension": ".cs",
   "mimetype": "text/x-csharp",
   "name": "C#",
   "pygments_lexer": "csharp",
   "version": "9.0"
  },
  "orig_nbformat": 4
 },
 "nbformat": 4,
 "nbformat_minor": 2
}
